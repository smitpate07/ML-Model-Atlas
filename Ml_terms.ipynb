{
 "cells": [
  {
   "cell_type": "markdown",
   "id": "e8bee23d",
   "metadata": {},
   "source": [
    "<img src=\"images/ml_terms.png\" width=\"700\" height=\"400\">"
   ]
  },
  {
   "cell_type": "markdown",
   "id": "3a966171",
   "metadata": {
    "vscode": {
     "languageId": "plaintext"
    }
   },
   "source": [
    "| **Term**                          | **Definition**                                                                                                                 | **Purpose / Why It Matters**                                        |\n",
    "| --------------------------------- | ------------------------------------------------------------------------------------------------------------------------------ | ------------------------------------------------------------------- |\n",
    "| **Machine Learning (ML)**         | A field of AI that enables computers to learn from data and make predictions or decisions without being explicitly programmed. | Allows systems to improve automatically from experience.            |\n",
    "| **Model**                         | A mathematical representation of relationships learned from data.                                                              | Used to make predictions or classify new information.               |\n",
    "| **Training**                      | The process of teaching a model by feeding it data and adjusting its parameters.                                               | Enables the model to learn useful patterns from data.               |\n",
    "| **Testing / Evaluation**          | Assessing a trained model’s performance on unseen data.                                                                        | Ensures that the model generalizes well beyond training data.       |\n",
    "| **Dataset**                       | A structured collection of data used for training, validating, and testing models.                                             | Provides the examples from which the model learns.                  |\n",
    "| **Feature**                       | An input variable that represents an attribute or characteristic of the data.                                                  | Provides measurable input for the model to make predictions.        |\n",
    "| **Label / Target**                | The correct answer or expected output in supervised learning.                                                                  | Guides the learning process by showing the model the right outcome. |\n",
    "| **Supervised Learning**           | A type of learning where the model is trained on labeled data (known inputs and outputs).                                      | Used for tasks like prediction and classification.                  |\n",
    "| **Unsupervised Learning**         | A learning approach where the model identifies hidden patterns without labeled outputs.                                        | Useful for discovering structure and grouping similar data.         |\n",
    "| **Reinforcement Learning**        | A learning method where an agent learns by receiving rewards or penalties based on its actions.                                | Used in robotics, gaming, and autonomous decision-making.           |\n",
    "| **Feature Engineering**           | The process of creating or modifying input features to improve model performance.                                              | Enhances learning by making important data patterns more visible.   |\n",
    "| **Weights**                       | Parameters that determine the strength or importance of each input feature in a model.                                         | Adjusted during training to reduce prediction errors.               |\n",
    "| **Bias**                          | A constant value added to model computations.                                                                                  | Helps shift predictions to better fit the data.                     |\n",
    "| **Loss Function**                 | A formula that measures the difference between predicted and actual results.                                                   | Guides how the model should adjust weights during training.         |\n",
    "| **Penalty / Regularization Term** | A constraint added to the loss function to discourage overly complex models.                                                   | Prevents overfitting and improves model generalization.             |\n",
    "| **Regularization**                | Techniques (like L1, L2, Dropout) used to keep models simple and avoid overfitting.                                            | Improves stability and helps models generalize better.              |\n",
    "| **Gradient Descent**              | An optimization algorithm that updates model parameters to minimize the loss function.                                         | Fundamental method for training ML models.                          |\n",
    "| **Learning Rate**                 | Controls how much model weights are updated during each training step.                                                         | Balances speed and stability during learning.                       |\n",
    "| **Epoch**                         | One complete pass of the training dataset through the model.                                                                   | Represents one full iteration of learning.                          |\n",
    "| **Batch Size**                    | The number of samples processed before model weights are updated.                                                              | Affects training efficiency, stability, and memory use.             |\n",
    "| **Hyperparameter**                | A configuration setting that controls the learning process (e.g., learning rate, regularization strength).                     | Tuned to optimize model performance.                                |\n",
    "| **Validation Set**                | A subset of data used to tune hyperparameters and evaluate during training.                                                    | Helps prevent overfitting.                                          |\n",
    "| **Cross-Validation**              | A technique for evaluating model reliability by splitting data into multiple folds for training and testing.                   | Provides a more accurate performance estimate.                      |\n",
    "| **Score / Metric**                | A numerical value that measures how well a model fits the data.                                                                | Used for comparison and improvement during development.             |\n"
   ]
  }
 ],
 "metadata": {
  "language_info": {
   "name": "python"
  }
 },
 "nbformat": 4,
 "nbformat_minor": 5
}
