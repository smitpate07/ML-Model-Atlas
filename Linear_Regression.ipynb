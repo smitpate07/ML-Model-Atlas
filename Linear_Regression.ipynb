{
 "cells": [
  {
   "cell_type": "markdown",
   "id": "9fa901a3",
   "metadata": {},
   "source": [
    "## Linear Regression\n",
    "\n",
    "<img src=\"images/Linear_regression.png\" width=\"500\" height=\"400\">"
   ]
  }
 ],
 "metadata": {
  "kernelspec": {
   "display_name": "Python 3",
   "language": "python",
   "name": "python3"
  },
  "language_info": {
   "name": "python",
   "version": "3.13.0"
  }
 },
 "nbformat": 4,
 "nbformat_minor": 5
}
