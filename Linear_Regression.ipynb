{
 "cells": [
  {
   "cell_type": "markdown",
   "id": "9fa901a3",
   "metadata": {},
   "source": [
    "# Linear Regression\n",
    "\n",
    "<img src=\"images/Linear_regression.png\" width=\"500\" height=\"400\">"
   ]
  },
  {
   "cell_type": "markdown",
   "id": "e88c565e",
   "metadata": {},
   "source": [
    "## What is Linear Regression ?"
   ]
  }
 ],
 "metadata": {
  "kernelspec": {
   "display_name": "Python 3",
   "language": "python",
   "name": "python3"
  },
  "language_info": {
   "name": "python",
   "version": "3.13.0"
  }
 },
 "nbformat": 4,
 "nbformat_minor": 5
}
